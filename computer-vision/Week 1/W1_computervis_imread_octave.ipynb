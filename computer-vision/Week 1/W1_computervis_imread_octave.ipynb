{
  "nbformat": 4,
  "nbformat_minor": 0,
  "metadata": {
    "colab": {
      "name": "W1_computervis_imread_octave.ipynb",
      "provenance": [],
      "collapsed_sections": [],
      "include_colab_link": true
    },
    "kernelspec": {
      "name": "python3",
      "display_name": "Python 3"
    }
  },
  "cells": [
    {
      "cell_type": "markdown",
      "metadata": {
        "id": "view-in-github",
        "colab_type": "text"
      },
      "source": [
        "<a href=\"https://colab.research.google.com/github/yohanesnuwara/nuwara-online-courses/blob/master/computer-vision/Week%201/W1_computervis_imread_octave.ipynb\" target=\"_parent\"><img src=\"https://colab.research.google.com/assets/colab-badge.svg\" alt=\"Open In Colab\"/></a>"
      ]
    },
    {
      "cell_type": "markdown",
      "metadata": {
        "id": "WfDf8a73QrtD",
        "colab_type": "text"
      },
      "source": [
        "## **Computer Vision Week 1: Accessing Image Sub-Regions**\n",
        "\n",
        "![computer vision](https://user-images.githubusercontent.com/51282928/81707109-99892d80-949a-11ea-894c-09ebff21762e.PNG)\n"
      ]
    },
    {
      "cell_type": "markdown",
      "metadata": {
        "id": "w_9zLmkDXgUf",
        "colab_type": "text"
      },
      "source": [
        "First install `octave` in Colab."
      ]
    },
    {
      "cell_type": "code",
      "metadata": {
        "id": "_dca6992Zfrg",
        "colab_type": "code",
        "colab": {}
      },
      "source": [
        "!apt install octave"
      ],
      "execution_count": 0,
      "outputs": []
    },
    {
      "cell_type": "markdown",
      "metadata": {
        "id": "XJIO852FXlWf",
        "colab_type": "text"
      },
      "source": [
        "Test with any script. "
      ]
    },
    {
      "cell_type": "code",
      "metadata": {
        "id": "poFRb32bZk1J",
        "colab_type": "code",
        "outputId": "853afd11-b4f6-40c6-cecb-ffd3f6a880c0",
        "colab": {
          "base_uri": "https://localhost:8080/",
          "height": 34
        }
      },
      "source": [
        "%%writefile add.m\n",
        "x = 1;\n",
        "y = 2;\n",
        "a = linspace(-5,5);\n",
        "display(x+y)"
      ],
      "execution_count": 13,
      "outputs": [
        {
          "output_type": "stream",
          "text": [
            "Overwriting add.m\n"
          ],
          "name": "stdout"
        }
      ]
    },
    {
      "cell_type": "code",
      "metadata": {
        "id": "7o_LGZZiZrDD",
        "colab_type": "code",
        "outputId": "6069fb4f-8956-496f-9590-57592495b867",
        "colab": {
          "base_uri": "https://localhost:8080/",
          "height": 34
        }
      },
      "source": [
        "# -W : no window system\n",
        "!octave -W add.m"
      ],
      "execution_count": 14,
      "outputs": [
        {
          "output_type": "stream",
          "text": [
            " 3\n"
          ],
          "name": "stdout"
        }
      ]
    },
    {
      "cell_type": "markdown",
      "metadata": {
        "id": "MgvDkrtqXrpU",
        "colab_type": "text"
      },
      "source": [
        "## Script"
      ]
    },
    {
      "cell_type": "markdown",
      "metadata": {
        "id": "8KaxtiWFXunf",
        "colab_type": "text"
      },
      "source": [
        "Download the `cameraman.tiff` from website. "
      ]
    },
    {
      "cell_type": "code",
      "metadata": {
        "id": "LnY4qjGTPn_L",
        "colab_type": "code",
        "colab": {
          "base_uri": "https://localhost:8080/",
          "height": 202
        },
        "outputId": "b63a86a4-7052-4f6d-b612-322c070fc67f"
      },
      "source": [
        "!wget http://people.math.sc.edu/Burkardt/data/tif/cameraman.tif"
      ],
      "execution_count": 15,
      "outputs": [
        {
          "output_type": "stream",
          "text": [
            "--2020-05-12 14:16:38--  http://people.math.sc.edu/Burkardt/data/tif/cameraman.tif\n",
            "Resolving people.math.sc.edu (people.math.sc.edu)... 129.252.1.14\n",
            "Connecting to people.math.sc.edu (people.math.sc.edu)|129.252.1.14|:80... connected.\n",
            "HTTP request sent, awaiting response... 200 OK\n",
            "Length: 65240 (64K) [image/tiff]\n",
            "Saving to: ‘cameraman.tif’\n",
            "\n",
            "\rcameraman.tif         0%[                    ]       0  --.-KB/s               \rcameraman.tif       100%[===================>]  63.71K  --.-KB/s    in 0.1s    \n",
            "\n",
            "2020-05-12 14:16:38 (458 KB/s) - ‘cameraman.tif’ saved [65240/65240]\n",
            "\n"
          ],
          "name": "stdout"
        }
      ]
    },
    {
      "cell_type": "markdown",
      "metadata": {
        "id": "4J3Ml9W7X0aO",
        "colab_type": "text"
      },
      "source": [
        "Write down and create the Matlab script"
      ]
    },
    {
      "cell_type": "code",
      "metadata": {
        "id": "cFm8uit_P4pH",
        "colab_type": "code",
        "colab": {
          "base_uri": "https://localhost:8080/",
          "height": 34
        },
        "outputId": "fcc60243-018e-4bff-b37a-a1028f05f448"
      },
      "source": [
        "%%writefile image-ssd.m\n",
        "\n",
        "img = imread('/content/cameraman.tif');\n",
        "subimg1 = img(1:50,1:50);\n",
        "subimg2 = img(  end -49 :end,  end -49 :end);\n",
        "SSD = sum(sum((double(subimg1) - double(subimg2)).^2));\n",
        "display(SSD)"
      ],
      "execution_count": 18,
      "outputs": [
        {
          "output_type": "stream",
          "text": [
            "Overwriting image-ssd.m\n"
          ],
          "name": "stdout"
        }
      ]
    },
    {
      "cell_type": "markdown",
      "metadata": {
        "id": "OhSfcAFqX4Bg",
        "colab_type": "text"
      },
      "source": [
        "Run the matlab script and display the result"
      ]
    },
    {
      "cell_type": "code",
      "metadata": {
        "id": "R98eh5p_QGtk",
        "colab_type": "code",
        "colab": {
          "base_uri": "https://localhost:8080/",
          "height": 34
        },
        "outputId": "47716978-e579-42a3-e8b5-fa016e4a2488"
      },
      "source": [
        "!octave -W image-ssd.m"
      ],
      "execution_count": 19,
      "outputs": [
        {
          "output_type": "stream",
          "text": [
            "SSD =  6529105\n"
          ],
          "name": "stdout"
        }
      ]
    }
  ]
}